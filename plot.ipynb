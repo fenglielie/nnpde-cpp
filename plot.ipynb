{
 "cells": [
  {
   "cell_type": "code",
   "execution_count": null,
   "metadata": {},
   "outputs": [],
   "source": [
    "import numpy as np\n",
    "import matplotlib.pyplot as plt\n",
    "\n",
    "\n",
    "def plot_curves_2(file1, file2, figsize=(10, 5)):\n",
    "    data1 = np.genfromtxt(file1, delimiter=\",\")\n",
    "    data2 = np.genfromtxt(file2, delimiter=\",\")\n",
    "\n",
    "    fig, axs = plt.subplots(1, 2, figsize=figsize)\n",
    "    axs[0].plot(data2[:, 0], data2[:, 1])  # More refined reference solution curves\n",
    "    axs[0].plot(data1[:, 0], data1[:, 2])\n",
    "    axs[0].set_xlabel(\"X\")\n",
    "    axs[0].set_ylabel(\"Y\")\n",
    "    axs[0].set_title(\"Curve 1\")\n",
    "\n",
    "    axs[1].plot(data2[:, 0], data2[:, 1])\n",
    "    axs[1].plot(data2[:, 0], data2[:, 2])\n",
    "    axs[1].set_xlabel(\"X\")\n",
    "    axs[1].set_ylabel(\"Y\")\n",
    "    axs[1].set_title(\"Curve 2\")\n",
    "\n",
    "    plt.tight_layout()\n",
    "    plt.show()"
   ]
  },
  {
   "cell_type": "code",
   "execution_count": null,
   "metadata": {},
   "outputs": [],
   "source": [
    "PREFIX = \"output/FV-Euler-Godunov\"\n",
    "plot_curves_2(PREFIX + \"/plot_1_v.csv\", PREFIX + \"/plot_2_v.csv\", figsize=(7, 3))"
   ]
  },
  {
   "cell_type": "code",
   "execution_count": null,
   "metadata": {},
   "outputs": [],
   "source": [
    "PREFIX = \"output/FV-RK3-WENO5\"\n",
    "plot_curves_2(PREFIX + \"/plot_1_v.csv\", PREFIX + \"/plot_2_v.csv\", figsize=(7, 3))"
   ]
  },
  {
   "cell_type": "code",
   "execution_count": null,
   "metadata": {},
   "outputs": [],
   "source": [
    "PREFIX = \"output/FD-RK3-WENO5\"\n",
    "plot_curves_2(PREFIX + \"/plot_1_v.csv\", PREFIX + \"/plot_2_v.csv\", figsize=(7, 3))"
   ]
  },
  {
   "cell_type": "code",
   "execution_count": null,
   "metadata": {},
   "outputs": [],
   "source": [
    "PREFIX = \"output/DG-RK3\"\n",
    "plot_curves_2(PREFIX + \"/plot_11_v.csv\", PREFIX + \"/plot_12_v.csv\", figsize=(7, 3))\n",
    "plot_curves_2(PREFIX + \"/plot_21_v.csv\", PREFIX + \"/plot_22_v.csv\", figsize=(7, 3))\n",
    "plot_curves_2(PREFIX + \"/plot_31_v.csv\", PREFIX + \"/plot_32_v.csv\", figsize=(7, 3))"
   ]
  },
  {
   "cell_type": "code",
   "execution_count": null,
   "metadata": {},
   "outputs": [],
   "source": []
  }
 ],
 "metadata": {
  "kernelspec": {
   "display_name": "base",
   "language": "python",
   "name": "python3"
  },
  "language_info": {
   "codemirror_mode": {
    "name": "ipython",
    "version": 3
   },
   "file_extension": ".py",
   "mimetype": "text/x-python",
   "name": "python",
   "nbconvert_exporter": "python",
   "pygments_lexer": "ipython3",
   "version": "3.12.1"
  }
 },
 "nbformat": 4,
 "nbformat_minor": 2
}
